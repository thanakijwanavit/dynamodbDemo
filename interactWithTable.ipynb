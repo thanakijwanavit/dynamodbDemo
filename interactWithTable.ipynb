{
 "cells": [
  {
   "cell_type": "code",
   "execution_count": 1,
   "metadata": {},
   "outputs": [
    {
     "name": "stdout",
     "output_type": "stream",
     "text": [
      "Requirement already satisfied: pynamodb-dax in /home/ec2-user/anaconda3/envs/JupyterSystemEnv/lib/python3.6/site-packages (0.0.4)\n",
      "Requirement already satisfied: botocore>=1.12.54 in /home/ec2-user/anaconda3/envs/JupyterSystemEnv/lib/python3.6/site-packages (from pynamodb-dax) (1.18.8)\n",
      "Requirement already satisfied: amazon-dax-client>=1.1.7 in /home/ec2-user/anaconda3/envs/JupyterSystemEnv/lib/python3.6/site-packages (from pynamodb-dax) (1.1.7)\n",
      "Requirement already satisfied: python-dateutil<3.0.0,>=2.1 in /home/ec2-user/anaconda3/envs/JupyterSystemEnv/lib/python3.6/site-packages (from pynamodb-dax) (2.8.1)\n",
      "Requirement already satisfied: jmespath<1.0.0,>=0.7.1 in /home/ec2-user/anaconda3/envs/JupyterSystemEnv/lib/python3.6/site-packages (from botocore>=1.12.54->pynamodb-dax) (0.10.0)\n",
      "Requirement already satisfied: urllib3<1.26,>=1.20 in /home/ec2-user/anaconda3/envs/JupyterSystemEnv/lib/python3.6/site-packages (from botocore>=1.12.54->pynamodb-dax) (1.22)\n",
      "Requirement already satisfied: six~=1.11 in /home/ec2-user/anaconda3/envs/JupyterSystemEnv/lib/python3.6/site-packages (from amazon-dax-client>=1.1.7->pynamodb-dax) (1.15.0)\n",
      "Requirement already satisfied: antlr4-python3-runtime==4.7.2; python_version >= \"3.0\" in /home/ec2-user/anaconda3/envs/JupyterSystemEnv/lib/python3.6/site-packages (from amazon-dax-client>=1.1.7->pynamodb-dax) (4.7.2)\n",
      "\u001b[33mWARNING: You are using pip version 20.2.3; however, version 20.2.4 is available.\n",
      "You should consider upgrading via the '/home/ec2-user/anaconda3/envs/JupyterSystemEnv/bin/python3.6 -m pip install --upgrade pip' command.\u001b[0m\n"
     ]
    }
   ],
   "source": [
    "!pip install pynamodb-dax"
   ]
  },
  {
   "cell_type": "code",
   "execution_count": 2,
   "metadata": {},
   "outputs": [],
   "source": [
    "tableName = 'dynamodbDemoVilla-LogTable-1U6Z3WLB40Q82'"
   ]
  },
  {
   "cell_type": "code",
   "execution_count": 4,
   "metadata": {},
   "outputs": [],
   "source": [
    "from pynamodb.models import Model\n",
    "from pynamodb.attributes import (\n",
    "    UnicodeAttribute, NumberAttribute, UnicodeSetAttribute, UTCDateTimeAttribute, JSONAttribute\n",
    ")"
   ]
  },
  {
   "cell_type": "code",
   "execution_count": 14,
   "metadata": {},
   "outputs": [],
   "source": [
    "class Database(Model):\n",
    "    class Meta:\n",
    "        table_name = tableName\n",
    "        region = 'ap-southeast-1'\n",
    "    transaction_id = UnicodeAttribute(hash_key=True)\n",
    "    datetime = NumberAttribute(range_key = True)\n",
    "    data = JSONAttribute()\n",
    "    @classmethod\n",
    "    def fromDict(cls, inputDict):\n",
    "      return cls(\n",
    "        transaction_id = inputDict['transaction_id'],\n",
    "        datetime = datetime.now().timestamp\n",
    "        data = inputDict\n",
    "      )"
   ]
  },
  {
   "cell_type": "code",
   "execution_count": null,
   "metadata": {},
   "outputs": [],
   "source": [
    "from pynamodb.indexes import GlobalSecondaryIndex, AllProjection\n",
    "from pynamodb.attributes import NumberAttribute\n",
    "\n",
    "\n",
    "class DateIndex(GlobalSecondaryIndex):\n",
    "    \"\"\"\n",
    "    This class represents a global secondary index\n",
    "    \"\"\"\n",
    "    class Meta:\n",
    "        index_name = 'foo-index'\n",
    "        read_capacity_units = 1\n",
    "        write_capacity_units = 1\n",
    "        projection = AllProjection()\n",
    "\n",
    "    # This attribute is the hash key for the index\n",
    "    # Note that this attribute must also exist\n",
    "    # in the model\n",
    "    view = NumberAttribute(default=0, hash_key=True)"
   ]
  },
  {
   "cell_type": "code",
   "execution_count": 57,
   "metadata": {},
   "outputs": [],
   "source": [
    "digioInputGetNotifyTransaction = {\n",
    "    \"merchant_id\": \"32434\",\n",
    "    \"merchant_name\": \"kdsjfljsldjf\",\n",
    "    \"transaction_id\": \"qfeef\",\n",
    "    \"amount\": \"qefqf\",\n",
    "    \"transaction_type\": \"feqfe\",\n",
    "    \"consumer_name\": \"fewqfq\",\n",
    "    \"mobile\": \"qfefeq\",\n",
    "    \"terminal_id\": \"qfewqf\",\n",
    "    \"transaction_date_time\": \"fqef\"\n",
    "}"
   ]
  },
  {
   "cell_type": "code",
   "execution_count": 58,
   "metadata": {},
   "outputs": [
    {
     "data": {
      "text/plain": [
       "dynamodbDemoVilla-LogTable-1U6Z3WLB40Q82<qfeef>"
      ]
     },
     "execution_count": 58,
     "metadata": {},
     "output_type": "execute_result"
    }
   ],
   "source": [
    "instance = Database.fromDict(digioInputGetNotifyTransaction)\n",
    "instance"
   ]
  },
  {
   "cell_type": "code",
   "execution_count": 59,
   "metadata": {},
   "outputs": [
    {
     "data": {
      "text/plain": [
       "{'ConsumedCapacity': {'CapacityUnits': 1.0,\n",
       "  'TableName': 'dynamodbDemoVilla-LogTable-1U6Z3WLB40Q82'}}"
      ]
     },
     "execution_count": 59,
     "metadata": {},
     "output_type": "execute_result"
    }
   ],
   "source": [
    "instance.save()"
   ]
  },
  {
   "cell_type": "code",
   "execution_count": 60,
   "metadata": {},
   "outputs": [
    {
     "name": "stdout",
     "output_type": "stream",
     "text": [
      "CPU times: user 3.08 ms, sys: 0 ns, total: 3.08 ms\n",
      "Wall time: 5.93 ms\n"
     ]
    }
   ],
   "source": [
    "%%time\n",
    "result = list(Database.query(\"qfeef\"))[0]"
   ]
  },
  {
   "cell_type": "code",
   "execution_count": 47,
   "metadata": {},
   "outputs": [
    {
     "data": {
      "text/plain": [
       "{'merchant_id': '32434',\n",
       " 'merchant_name': 'kdsjfljsldjf',\n",
       " 'transaction_id': 'qfeef',\n",
       " 'amount': 'qefqf',\n",
       " 'transaction_type': 'feqfe',\n",
       " 'consumer_name': 'fewqfq',\n",
       " 'mobile': 'qfefeq',\n",
       " 'terminal_id': 'qfewqf',\n",
       " 'transaction_date_time': 'fqef'}"
      ]
     },
     "execution_count": 47,
     "metadata": {},
     "output_type": "execute_result"
    }
   ],
   "source": [
    "result.data"
   ]
  },
  {
   "cell_type": "code",
   "execution_count": 48,
   "metadata": {},
   "outputs": [
    {
     "data": {
      "text/plain": [
       "'qfeef'"
      ]
     },
     "execution_count": 48,
     "metadata": {},
     "output_type": "execute_result"
    }
   ],
   "source": [
    "result.transaction_id"
   ]
  },
  {
   "cell_type": "code",
   "execution_count": 49,
   "metadata": {},
   "outputs": [
    {
     "data": {
      "text/plain": [
       "{'ConsumedCapacity': {'CapacityUnits': 1.0,\n",
       "  'TableName': 'dynamodbDemoVilla-LogTable-1U6Z3WLB40Q82'}}"
      ]
     },
     "execution_count": 49,
     "metadata": {},
     "output_type": "execute_result"
    }
   ],
   "source": [
    "result.delete()"
   ]
  },
  {
   "cell_type": "code",
   "execution_count": 54,
   "metadata": {},
   "outputs": [
    {
     "name": "stdout",
     "output_type": "stream",
     "text": [
      "CPU times: user 2.97 ms, sys: 0 ns, total: 2.97 ms\n",
      "Wall time: 9.43 ms\n"
     ]
    },
    {
     "data": {
      "text/plain": [
       "[dynamodbDemoVilla-LogTable-1U6Z3WLB40Q82<qfeejhkhkf>]"
      ]
     },
     "execution_count": 54,
     "metadata": {},
     "output_type": "execute_result"
    }
   ],
   "source": [
    "%%time\n",
    "list(Database.scan(limit=10))"
   ]
  },
  {
   "cell_type": "code",
   "execution_count": null,
   "metadata": {},
   "outputs": [],
   "source": []
  }
 ],
 "metadata": {
  "kernelspec": {
   "display_name": "python38",
   "language": "python",
   "name": "python38"
  },
  "language_info": {
   "codemirror_mode": {
    "name": "ipython",
    "version": 3
   },
   "file_extension": ".py",
   "mimetype": "text/x-python",
   "name": "python",
   "nbconvert_exporter": "python",
   "pygments_lexer": "ipython3",
   "version": "3.8.6"
  }
 },
 "nbformat": 4,
 "nbformat_minor": 4
}
