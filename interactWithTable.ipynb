{
 "cells": [
  {
   "cell_type": "code",
   "execution_count": 1,
   "metadata": {},
   "outputs": [],
   "source": [
    "tableName = 'dynamodbDemoVilla-LogTable-1U6Z3WLB40Q82'"
   ]
  },
  {
   "cell_type": "code",
   "execution_count": 7,
   "metadata": {},
   "outputs": [],
   "source": [
    "from pynamodb.models import Model\n",
    "from pynamodb.attributes import (\n",
    "    UnicodeAttribute, NumberAttribute, UnicodeSetAttribute, UTCDateTimeAttribute, JSONAttribute\n",
    ")\n",
    "from datetime import datetime"
   ]
  },
  {
   "cell_type": "code",
   "execution_count": 42,
   "metadata": {},
   "outputs": [],
   "source": [
    "class Database(Model):\n",
    "    class Meta:\n",
    "        table_name = tableName\n",
    "        region = 'ap-southeast-1'\n",
    "    transaction_id = UnicodeAttribute(hash_key=True)\n",
    "    datetime = NumberAttribute(range_key = True)\n",
    "    data = JSONAttribute()\n",
    "    merchant_id = UnicodeAttribute()\n",
    "    merchant_name = UnicodeAttribute()\n",
    "    \n",
    "    @classmethod\n",
    "    def fromDict(cls, inputDict):\n",
    "      return cls(\n",
    "        transaction_id = inputDict['transaction_id'],\n",
    "        datetime = datetime.now().timestamp(),\n",
    "        data = inputDict,\n",
    "        merchant_id = inputDict['merchant_id'],\n",
    "        merchant_name = inputDict['merchant_name']\n",
    "      )\n",
    "    \n",
    "    def toDict(self):\n",
    "      return vars(self)['attribute_values']\n",
    "    \n",
    "    def nameAndId(self):\n",
    "      allKeys = self.toDict()\n",
    "      keyss = ['merchant_name', 'merchant_id', 'transaction_id']\n",
    "      return { k:v for k,v in allKeys.items() if k in keyss }\n",
    "      "
   ]
  },
  {
   "cell_type": "code",
   "execution_count": 45,
   "metadata": {},
   "outputs": [
    {
     "data": {
      "text/plain": [
       "{'merchant_name': 'kdsjfljsldjf',\n",
       " 'merchant_id': '32434',\n",
       " 'transaction_id': 'qfeef'}"
      ]
     },
     "execution_count": 45,
     "metadata": {},
     "output_type": "execute_result"
    }
   ],
   "source": [
    "keyss = ['merchant_name', 'merchant_id', 'transaction_id']\n",
    "item = next(Database.query('qfeef', attributes_to_get = keyss))\n",
    "item.toDict()"
   ]
  },
  {
   "cell_type": "code",
   "execution_count": 17,
   "metadata": {},
   "outputs": [],
   "source": [
    "from pynamodb.indexes import GlobalSecondaryIndex, AllProjection\n",
    "from pynamodb.attributes import NumberAttribute\n",
    "\n",
    "\n",
    "class DateIndex(GlobalSecondaryIndex):\n",
    "    \"\"\"\n",
    "    This class represents a global secondary index\n",
    "    \"\"\"\n",
    "    class Meta:\n",
    "        index_name = 'foo-index'\n",
    "        read_capacity_units = 1\n",
    "        write_capacity_units = 1\n",
    "        projection = AllProjection()\n",
    "\n",
    "    # This attribute is the hash key for the index\n",
    "    # Note that this attribute must also exist\n",
    "    # in the model\n",
    "    view = NumberAttribute(default=0, hash_key=True)"
   ]
  },
  {
   "cell_type": "code",
   "execution_count": 28,
   "metadata": {},
   "outputs": [],
   "source": [
    "digioInputGetNotifyTransaction = {\n",
    "    \"merchant_id\": \"32434\",\n",
    "    \"merchant_name\": \"kdsjfljsldjf\",\n",
    "    \"transaction_id\": \"qfeef\",\n",
    "    \"amount\": \"qefqf\",\n",
    "    \"transaction_type\": \"feqfe\",\n",
    "    \"consumer_name\": \"fewqfq\",\n",
    "    \"mobile\": \"qfefeq\",\n",
    "    \"terminal_id\": \"qfewqf\",\n",
    "    \"transaction_date_time\": \"fqef\"\n",
    "}"
   ]
  },
  {
   "cell_type": "code",
   "execution_count": 29,
   "metadata": {},
   "outputs": [
    {
     "data": {
      "text/plain": [
       "dynamodbDemoVilla-LogTable-1U6Z3WLB40Q82<qfeef, 1614008053.998002>"
      ]
     },
     "execution_count": 29,
     "metadata": {},
     "output_type": "execute_result"
    }
   ],
   "source": [
    "instance = Database.fromDict(digioInputGetNotifyTransaction)\n",
    "instance"
   ]
  },
  {
   "cell_type": "code",
   "execution_count": 30,
   "metadata": {},
   "outputs": [
    {
     "data": {
      "text/plain": [
       "{'ConsumedCapacity': {'CapacityUnits': 1.0,\n",
       "  'TableName': 'dynamodbDemoVilla-LogTable-1U6Z3WLB40Q82'}}"
      ]
     },
     "execution_count": 30,
     "metadata": {},
     "output_type": "execute_result"
    }
   ],
   "source": [
    "instance.save()"
   ]
  },
  {
   "cell_type": "code",
   "execution_count": 21,
   "metadata": {},
   "outputs": [
    {
     "name": "stdout",
     "output_type": "stream",
     "text": [
      "CPU times: user 4.44 ms, sys: 31 µs, total: 4.47 ms\n",
      "Wall time: 8.73 ms\n"
     ]
    }
   ],
   "source": [
    "%%time\n",
    "result = list(Database.query(\"qfeef\"))[0]"
   ]
  },
  {
   "cell_type": "code",
   "execution_count": 22,
   "metadata": {},
   "outputs": [
    {
     "data": {
      "text/plain": [
       "{'merchant_id': '32434',\n",
       " 'merchant_name': 'kdsjfljsldjf',\n",
       " 'transaction_id': 'qfeef',\n",
       " 'amount': 'qefqf',\n",
       " 'transaction_type': 'feqfe',\n",
       " 'consumer_name': 'fewqfq',\n",
       " 'mobile': 'qfefeq',\n",
       " 'terminal_id': 'qfewqf',\n",
       " 'transaction_date_time': 'fqef'}"
      ]
     },
     "execution_count": 22,
     "metadata": {},
     "output_type": "execute_result"
    }
   ],
   "source": [
    "result.data"
   ]
  },
  {
   "cell_type": "code",
   "execution_count": 23,
   "metadata": {},
   "outputs": [
    {
     "data": {
      "text/plain": [
       "'qfeef'"
      ]
     },
     "execution_count": 23,
     "metadata": {},
     "output_type": "execute_result"
    }
   ],
   "source": [
    "result.transaction_id"
   ]
  },
  {
   "cell_type": "code",
   "execution_count": 24,
   "metadata": {},
   "outputs": [
    {
     "data": {
      "text/plain": [
       "{'ConsumedCapacity': {'CapacityUnits': 1.0,\n",
       "  'TableName': 'dynamodbDemoVilla-LogTable-1U6Z3WLB40Q82'}}"
      ]
     },
     "execution_count": 24,
     "metadata": {},
     "output_type": "execute_result"
    }
   ],
   "source": [
    "result.delete()"
   ]
  },
  {
   "cell_type": "code",
   "execution_count": 25,
   "metadata": {},
   "outputs": [
    {
     "name": "stdout",
     "output_type": "stream",
     "text": [
      "CPU times: user 3.98 ms, sys: 343 µs, total: 4.33 ms\n",
      "Wall time: 8.84 ms\n"
     ]
    },
    {
     "data": {
      "text/plain": [
       "[dynamodbDemoVilla-LogTable-1U6Z3WLB40Q82<123234, None>,\n",
       " dynamodbDemoVilla-LogTable-1U6Z3WLB40Q82<123, None>,\n",
       " dynamodbDemoVilla-LogTable-1U6Z3WLB40Q82<qfeejhkhkf, None>]"
      ]
     },
     "execution_count": 25,
     "metadata": {},
     "output_type": "execute_result"
    }
   ],
   "source": [
    "%%time\n",
    "list(Database.scan(limit=10))"
   ]
  },
  {
   "cell_type": "code",
   "execution_count": null,
   "metadata": {},
   "outputs": [],
   "source": []
  }
 ],
 "metadata": {
  "kernelspec": {
   "display_name": "python38",
   "language": "python",
   "name": "python38"
  },
  "language_info": {
   "codemirror_mode": {
    "name": "ipython",
    "version": 3
   },
   "file_extension": ".py",
   "mimetype": "text/x-python",
   "name": "python",
   "nbconvert_exporter": "python",
   "pygments_lexer": "ipython3",
   "version": "3.8.6"
  }
 },
 "nbformat": 4,
 "nbformat_minor": 4
}
