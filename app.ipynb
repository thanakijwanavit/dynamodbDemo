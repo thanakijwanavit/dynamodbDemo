{
 "cells": [
  {
   "cell_type": "code",
   "execution_count": 1,
   "metadata": {},
   "outputs": [],
   "source": [
    "#export\n",
    "tableName = 'dynamodbDemoVilla-LogTable-1U6Z3WLB40Q82'\n",
    "functionName = 'dynamodbDemoVilla-IngestFunction-UHL6PMPDPV9A'\n",
    "s3bucketName = 'dynamodbdemovilla-ingestbucket-b6avfx3ejcop'"
   ]
  },
  {
   "cell_type": "code",
   "execution_count": 2,
   "metadata": {},
   "outputs": [],
   "source": [
    "#export\n",
    "from pynamodb.models import Model\n",
    "from pynamodb.attributes import (\n",
    "    UnicodeAttribute, NumberAttribute, UnicodeSetAttribute, UTCDateTimeAttribute, JSONAttribute\n",
    ")\n",
    "from s3bz.s3bz import S3\n",
    "from awsSchema.apigateway import Event, Response\n",
    "import json"
   ]
  },
  {
   "cell_type": "code",
   "execution_count": 3,
   "metadata": {},
   "outputs": [],
   "source": [
    "#export\n",
    "# from pynamodb.indexes import GlobalSecondaryIndex, AllProjection\n",
    "# from pynamodb.attributes import NumberAttribute\n",
    "\n",
    "\n",
    "# class DateIndex(GlobalSecondaryIndex):\n",
    "#     \"\"\"\n",
    "#     This class represents a global secondary index\n",
    "#     \"\"\"\n",
    "#     class Meta:\n",
    "#         index_name = 'foo-index'\n",
    "#         read_capacity_units = 1\n",
    "#         write_capacity_units = 1\n",
    "#         projection = AllProjection()\n",
    "\n",
    "#     # This attribute is the hash key for the index\n",
    "#     # Note that this attribute must also exist\n",
    "#     # in the model\n",
    "#     view = NumberAttribute(default=0, hash_key=True)"
   ]
  },
  {
   "cell_type": "markdown",
   "metadata": {},
   "source": [
    "# Define database structure"
   ]
  },
  {
   "cell_type": "code",
   "execution_count": 14,
   "metadata": {},
   "outputs": [],
   "source": [
    "#export\n",
    "class ExampleData(Model):\n",
    "    class Meta:\n",
    "      table_name = tableName\n",
    "      region = 'ap-southeast-1'\n",
    "    transaction_id = UnicodeAttribute(hash_key=True)\n",
    "    date = NumberAttribute()\n",
    "    data = JSONAttribute()\n",
    "    @classmethod\n",
    "    def fromDict(cls, input_):\n",
    "      return cls(\n",
    "        transaction_id = input_['id_'],\n",
    "        date = input_['date'],\n",
    "        data = input_\n",
    "         )\n"
   ]
  },
  {
   "cell_type": "code",
   "execution_count": 15,
   "metadata": {},
   "outputs": [],
   "source": [
    "inputExample = {\n",
    "    \"id_\": \"123\",\n",
    "    \"date\": 1234323536,\n",
    "    \"merchant_id\": \"32434\",\n",
    "    \"merchant_name\": \"kdsjfljsldjf\",\n",
    "    \"transaction_id\": \"qfeef\",\n",
    "    \"amount\": \"qefqf\",\n",
    "    \"transaction_type\": \"feqfe\",\n",
    "    \"consumer_name\": \"fewqfq\",\n",
    "    \"mobile\": \"qfefeq\",\n",
    "    \"terminal_id\": \"qfewqf\",\n",
    "    \"transaction_date_time\": \"fqef\"\n",
    "}"
   ]
  },
  {
   "cell_type": "markdown",
   "metadata": {},
   "source": [
    "## save data"
   ]
  },
  {
   "cell_type": "code",
   "execution_count": 16,
   "metadata": {},
   "outputs": [
    {
     "data": {
      "text/plain": [
       "{'ConsumedCapacity': {'CapacityUnits': 1.0,\n",
       "  'TableName': 'dynamodbDemoVilla-LogTable-1U6Z3WLB40Q82'}}"
      ]
     },
     "execution_count": 16,
     "metadata": {},
     "output_type": "execute_result"
    }
   ],
   "source": [
    "data = ExampleData.fromDict(inputExample)\n",
    "data.save()"
   ]
  },
  {
   "cell_type": "markdown",
   "metadata": {},
   "source": [
    "## Query data"
   ]
  },
  {
   "cell_type": "code",
   "execution_count": 17,
   "metadata": {},
   "outputs": [
    {
     "data": {
      "text/plain": [
       "{'id_': '123',\n",
       " 'date': 1234323536,\n",
       " 'merchant_id': '32434',\n",
       " 'merchant_name': 'kdsjfljsldjf',\n",
       " 'transaction_id': 'qfeef',\n",
       " 'amount': 'qefqf',\n",
       " 'transaction_type': 'feqfe',\n",
       " 'consumer_name': 'fewqfq',\n",
       " 'mobile': 'qfefeq',\n",
       " 'terminal_id': 'qfewqf',\n",
       " 'transaction_date_time': 'fqef'}"
      ]
     },
     "execution_count": 17,
     "metadata": {},
     "output_type": "execute_result"
    }
   ],
   "source": [
    "next(ExampleData.query('123')).data"
   ]
  },
  {
   "cell_type": "markdown",
   "metadata": {},
   "source": [
    "## save to s3"
   ]
  },
  {
   "cell_type": "code",
   "execution_count": 18,
   "metadata": {},
   "outputs": [],
   "source": [
    "inputExamples = [{\n",
    "    \"id_\": \"123\",\n",
    "    \"date\": 1234323536,\n",
    "    \"merchant_id\": \"32434\",\n",
    "    \"merchant_name\": \"kdsjfljsldjf\",\n",
    "    \"transaction_id\": \"qfeef\",\n",
    "    \"amount\": \"qefqf\",\n",
    "    \"transaction_type\": \"feqfe\",\n",
    "    \"consumer_name\": \"fewqfq\",\n",
    "    \"mobile\": \"qfefeq\",\n",
    "    \"terminal_id\": \"qfewqf\",\n",
    "    \"transaction_date_time\": \"fqef\"\n",
    "  },\n",
    "  {\n",
    "    \"id_\": \"123234\",\n",
    "    \"date\": 1234323536,\n",
    "    \"merchant_id\": \"32434\",\n",
    "    \"merchant_name\": \"kdsjfljsldjf\",\n",
    "    \"transaction_id\": \"qfeef\",\n",
    "    \"amount\": \"qefqf\",\n",
    "    \"transaction_type\": \"feqfe\",\n",
    "    \"consumer_name\": \"fewqfq\",\n",
    "    \"mobile\": \"qfefeq\",\n",
    "    \"terminal_id\": \"qfewqf\",\n",
    "    \"transaction_date_time\": \"fqef\"\n",
    "}]\n",
    "  "
   ]
  },
  {
   "cell_type": "code",
   "execution_count": 19,
   "metadata": {},
   "outputs": [],
   "source": [
    "def saveToS3(data, inputPath, key):\n",
    "  with open (inputPath, 'w') as f:\n",
    "    json.dump(data, f)\n",
    "  S3.saveFile(key =key ,path = inputPath,bucket = s3bucketName)"
   ]
  },
  {
   "cell_type": "code",
   "execution_count": 20,
   "metadata": {},
   "outputs": [],
   "source": [
    "saveToS3(inputExamples, '/tmp/data', 'test')"
   ]
  },
  {
   "cell_type": "code",
   "execution_count": 21,
   "metadata": {},
   "outputs": [
    {
     "name": "stdout",
     "output_type": "stream",
     "text": [
      "[{\"id_\": \"123\", \"date\": 1234323536, \"merchant_id\": \"32434\", \"merchant_name\": \"kdsjfljsldjf\", \"transaction_id\": \"qfeef\", \"amount\": \"qefqf\", \"transaction_type\": \"feqfe\", \"consumer_name\": \"fewqfq\", \"mobile\": \"qfefeq\", \"terminal_id\": \"qfewqf\", \"transaction_date_time\": \"fqef\"}, {\"id_\": \"123234\", \"date\": 1234323536, \"merchant_id\": \"32434\", \"merchant_name\": \"kdsjfljsldjf\", \"transaction_id\": \"qfeef\", \"amount\": \"qefqf\", \"transaction_type\": \"feqfe\", \"consumer_name\": \"fewqfq\", \"mobile\": \"qfefeq\", \"terminal_id\": \"qfewqf\", \"transaction_date_time\": \"fqef\"}]\n"
     ]
    }
   ],
   "source": [
    "#export\n",
    "S3.loadFile(key = 'test', path = '/tmp/loaded',bucket=s3bucketName)\n",
    "with open('/tmp/loaded', 'r') as f:\n",
    "  print(f.read())"
   ]
  },
  {
   "cell_type": "code",
   "execution_count": 22,
   "metadata": {},
   "outputs": [],
   "source": [
    "#export\n",
    "from pprint import pprint\n",
    "def ingest(event, *args):\n",
    "  # set up \n",
    "  body = Event.parseBody(event)\n",
    "  key = body['key']\n",
    "  path = '/tmp/loaded'\n",
    "  \n",
    "  # load from s3\n",
    "  S3.loadFile(key = 'test', path = '/tmp/loaded',bucket=s3bucketName)\n",
    "  with open(path, 'r') as f:\n",
    "    data = json.load(f)\n",
    "#   print(data)\n",
    "  # save to dynamodb\n",
    "  results = []\n",
    "  with ExampleData.batch_write() as batch:\n",
    "    for item in data:\n",
    "      exampleData = ExampleData.fromDict(item)\n",
    "      print(exampleData.data)\n",
    "      batch.save(exampleData)\n",
    "  return results\n",
    "    \n",
    "  \n",
    "  "
   ]
  },
  {
   "cell_type": "code",
   "execution_count": 23,
   "metadata": {},
   "outputs": [
    {
     "name": "stdout",
     "output_type": "stream",
     "text": [
      "{'id_': '123', 'date': 1234323536, 'merchant_id': '32434', 'merchant_name': 'kdsjfljsldjf', 'transaction_id': 'qfeef', 'amount': 'qefqf', 'transaction_type': 'feqfe', 'consumer_name': 'fewqfq', 'mobile': 'qfefeq', 'terminal_id': 'qfewqf', 'transaction_date_time': 'fqef'}\n",
      "{'id_': '123234', 'date': 1234323536, 'merchant_id': '32434', 'merchant_name': 'kdsjfljsldjf', 'transaction_id': 'qfeef', 'amount': 'qefqf', 'transaction_type': 'feqfe', 'consumer_name': 'fewqfq', 'mobile': 'qfefeq', 'terminal_id': 'qfewqf', 'transaction_date_time': 'fqef'}\n"
     ]
    },
    {
     "data": {
      "text/plain": [
       "[]"
      ]
     },
     "execution_count": 23,
     "metadata": {},
     "output_type": "execute_result"
    }
   ],
   "source": [
    "ingestInput = {\n",
    "  'key': 'test'\n",
    "}\n",
    "ingest(Event.getInput(ingestInput))"
   ]
  },
  {
   "cell_type": "code",
   "execution_count": 24,
   "metadata": {},
   "outputs": [],
   "source": [
    "idList = ['123','123234']"
   ]
  },
  {
   "cell_type": "code",
   "execution_count": 26,
   "metadata": {},
   "outputs": [
    {
     "name": "stdout",
     "output_type": "stream",
     "text": [
      "{'id_': '123234', 'date': 1234323536, 'merchant_id': '32434', 'merchant_name': 'kdsjfljsldjf', 'transaction_id': 'qfeef', 'amount': 'qefqf', 'transaction_type': 'feqfe', 'consumer_name': 'fewqfq', 'mobile': 'qfefeq', 'terminal_id': 'qfewqf', 'transaction_date_time': 'fqef'}\n",
      "{'id_': '123', 'date': 1234323536, 'merchant_id': '32434', 'merchant_name': 'kdsjfljsldjf', 'transaction_id': 'qfeef', 'amount': 'qefqf', 'transaction_type': 'feqfe', 'consumer_name': 'fewqfq', 'mobile': 'qfefeq', 'terminal_id': 'qfewqf', 'transaction_date_time': 'fqef'}\n"
     ]
    }
   ],
   "source": [
    "for item in ExampleData.batch_get(idList):\n",
    "    print(item.data)"
   ]
  },
  {
   "cell_type": "code",
   "execution_count": null,
   "metadata": {},
   "outputs": [],
   "source": []
  }
 ],
 "metadata": {
  "kernelspec": {
   "display_name": "python38",
   "language": "python",
   "name": "python38"
  },
  "language_info": {
   "codemirror_mode": {
    "name": "ipython",
    "version": 3
   },
   "file_extension": ".py",
   "mimetype": "text/x-python",
   "name": "python",
   "nbconvert_exporter": "python",
   "pygments_lexer": "ipython3",
   "version": "3.8.6"
  }
 },
 "nbformat": 4,
 "nbformat_minor": 4
}
